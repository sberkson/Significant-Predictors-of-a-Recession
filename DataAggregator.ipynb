{
 "cells": [
  {
   "cell_type": "markdown",
   "metadata": {},
   "source": [
    "# Regression Analysis Final Project Data Merging and Cleaning\n",
    "### Sam Berkson"
   ]
  },
  {
   "cell_type": "code",
   "execution_count": 244,
   "metadata": {},
   "outputs": [],
   "source": [
    "# Import libraries \n",
    "import pandas as pd\n",
    "import os"
   ]
  },
  {
   "cell_type": "markdown",
   "metadata": {},
   "source": [
    "# Merging and Cleaning Economic Data"
   ]
  },
  {
   "cell_type": "code",
   "execution_count": 245,
   "metadata": {},
   "outputs": [],
   "source": [
    "files = [\"Recession.csv\", \"NationalDebt.csv\", \"MortgageDebtIncomePercent.csv\", \"MedianSalesPrice.csv\", \"MortgageLiability.csv\", \"PersonalIncomePerCapita.csv\"]\n",
    "master = pd.DataFrame()\n",
    "\n",
    "for index, filename in enumerate(files):\n",
    "    df = pd.read_csv(os.path.join(os.path.join(os.getcwd(), \"Data/\"), filename))\n",
    "    \n",
    "    if index == 0:\n",
    "        master = df\n",
    "    else:\n",
    "        master = pd.merge(master, df, on=\"DATE\", how=\"outer\")\n",
    "\n"
   ]
  },
  {
   "cell_type": "code",
   "execution_count": 246,
   "metadata": {},
   "outputs": [
    {
     "name": "stdout",
     "output_type": "stream",
     "text": [
      "Master Shape:  (328, 7)\n",
      "Master Columns:  Index(['DATE', 'Recession', 'NationalDebt', 'MortgageDebtIncomePercent',\n",
      "       'HomeMedianSalesPrice', 'MortgageLiability', 'PersonalIncomePerCapita'],\n",
      "      dtype='object')\n"
     ]
    }
   ],
   "source": [
    "print(\"Master Shape: \", master.shape)\n",
    "print(\"Master Columns: \", master.columns)\n",
    "\n",
    "# Set index to date and convert to datetime dtype\n",
    "master[\"DATE\"] = pd.to_datetime(master[\"DATE\"])\n"
   ]
  },
  {
   "cell_type": "code",
   "execution_count": 247,
   "metadata": {},
   "outputs": [
    {
     "name": "stdout",
     "output_type": "stream",
     "text": [
      "Master Shape:  (123, 7)\n",
      "Master Columns:  Index(['DATE', 'Recession', 'NationalDebt', 'MortgageDebtIncomePercent',\n",
      "       'HomeMedianSalesPrice', 'MortgageLiability', 'PersonalIncomePerCapita'],\n",
      "      dtype='object')\n"
     ]
    }
   ],
   "source": [
    "# If date is before 1990 or after 2021, drop it.\n",
    "master = master.loc[(master[\"DATE\"] > \"1990-01-01\") & (master[\"DATE\"] < \"2021-01-01\")]\n",
    "\n",
    "# Check results\n",
    "print(\"Master Shape: \", master.shape)\n",
    "print(\"Master Columns: \", master.columns)"
   ]
  },
  {
   "cell_type": "code",
   "execution_count": 248,
   "metadata": {},
   "outputs": [
    {
     "name": "stdout",
     "output_type": "stream",
     "text": [
      "Number of NaNs:  DATE                         0\n",
      "Recession                    0\n",
      "NationalDebt                 0\n",
      "MortgageDebtIncomePercent    0\n",
      "HomeMedianSalesPrice         0\n",
      "MortgageLiability            0\n",
      "PersonalIncomePerCapita      0\n",
      "dtype: int64\n"
     ]
    }
   ],
   "source": [
    "# Impute PersonalIncomePerCapita for previous 3 time steps of each entry\n",
    "master[\"PersonalIncomePerCapita\"] = master[\"PersonalIncomePerCapita\"].fillna(method=\"bfill\", limit=3)\n",
    "\n",
    "# Impute MedianSalesPrice for next 3 time steps of last entry\n",
    "master[\"PersonalIncomePerCapita\"] = master[\"PersonalIncomePerCapita\"].fillna(method=\"ffill\", limit=3)\n",
    "\n",
    "# Check for any nans\n",
    "print(\"Number of NaNs: \", master.isna().sum())"
   ]
  },
  {
   "cell_type": "code",
   "execution_count": 249,
   "metadata": {},
   "outputs": [
    {
     "name": "stdout",
     "output_type": "stream",
     "text": [
      "Master Shape:  (123, 7)\n",
      "Master Columns:  Index(['DATE', 'Recession', 'NationalDebt', 'MortgageDebtIncomePercent',\n",
      "       'HomeMedianSalesPrice', 'MortgageLiability', 'PersonalIncomePerCapita'],\n",
      "      dtype='object')\n"
     ]
    }
   ],
   "source": [
    "# End check\n",
    "print(\"Master Shape: \", master.shape)\n",
    "print(\"Master Columns: \", master.columns)\n",
    "\n",
    "# Save to csv\n",
    "master.to_csv(os.path.join(os.getcwd(), \"Data/Master_Data.csv\"))"
   ]
  },
  {
   "cell_type": "markdown",
   "metadata": {},
   "source": [
    "# Cleaning and Merging Poverty Data"
   ]
  },
  {
   "cell_type": "code",
   "execution_count": 250,
   "metadata": {},
   "outputs": [],
   "source": [
    "df = pd.read_excel(os.path.join(os.path.join(os.getcwd(), \"Data/\"), \"CleanedPovertyByFamilyType.xlsx\"))\n",
    "\n",
    "# Add a year column to both df and master\n",
    "df[\"Year\"] = df[\"Year\"].astype(str)\n",
    "df[\"Year\"] = df[\"Year\"].str[:4]\n",
    "df[\"Year\"] = df[\"Year\"].astype(int)\n",
    "master[\"Year\"] = master[\"DATE\"].dt.year"
   ]
  },
  {
   "cell_type": "code",
   "execution_count": 251,
   "metadata": {},
   "outputs": [
    {
     "name": "stdout",
     "output_type": "stream",
     "text": [
      "Master shape:  (131, 20)\n",
      "Master columns:  Index(['DATE', 'Recession', 'NationalDebt', 'MortgageDebtIncomePercent',\n",
      "       'HomeMedianSalesPrice', 'MortgageLiability', 'PersonalIncomePerCapita',\n",
      "       'Year', 'All_Total', 'All_Num', 'All_Pct', 'Married_Total',\n",
      "       'Married_Num', 'Married_Pct', 'Male_Total', 'Male_Num', 'Male_Pct',\n",
      "       'Female_Total', 'Female_Num', 'Female_Pct'],\n",
      "      dtype='object')\n"
     ]
    }
   ],
   "source": [
    "# Save master to csv\n",
    "master = pd.merge(master, df, on=\"Year\", how=\"left\")\n",
    "\n",
    "print(\"Master shape: \", master.shape)\n",
    "print(\"Master columns: \", master.columns)"
   ]
  },
  {
   "cell_type": "code",
   "execution_count": 252,
   "metadata": {},
   "outputs": [
    {
     "name": "stdout",
     "output_type": "stream",
     "text": [
      "Master shape:  (123, 19)\n",
      "Master columns:  Index(['DATE', 'Recession', 'NationalDebt', 'MortgageDebtIncomePercent',\n",
      "       'HomeMedianSalesPrice', 'MortgageLiability', 'PersonalIncomePerCapita',\n",
      "       'All_Total', 'All_Num', 'All_Pct', 'Married_Total', 'Married_Num',\n",
      "       'Married_Pct', 'Male_Total', 'Male_Num', 'Male_Pct', 'Female_Total',\n",
      "       'Female_Num', 'Female_Pct'],\n",
      "      dtype='object')\n"
     ]
    }
   ],
   "source": [
    "# Remove duplicate DATE entries\n",
    "master = master.drop_duplicates(subset=\"DATE\", keep=\"first\")\n",
    "\n",
    "# Remove temp year column\n",
    "master = master.drop(columns=[\"Year\"])\n",
    "\n",
    "print(\"Master shape: \", master.shape)\n",
    "print(\"Master columns: \", master.columns)"
   ]
  },
  {
   "cell_type": "code",
   "execution_count": 253,
   "metadata": {},
   "outputs": [],
   "source": [
    "master.to_csv(os.path.join(os.getcwd(), \"Data/Master_Data.csv\"))"
   ]
  }
 ],
 "metadata": {
  "kernelspec": {
   "display_name": "Python 3",
   "language": "python",
   "name": "python3"
  },
  "language_info": {
   "codemirror_mode": {
    "name": "ipython",
    "version": 3
   },
   "file_extension": ".py",
   "mimetype": "text/x-python",
   "name": "python",
   "nbconvert_exporter": "python",
   "pygments_lexer": "ipython3",
   "version": "3.11.1"
  }
 },
 "nbformat": 4,
 "nbformat_minor": 2
}
